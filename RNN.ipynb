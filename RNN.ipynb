{
 "cells": [
  {
   "cell_type": "markdown",
   "metadata": {
    "id": "Y45yhDufI5Uo"
   },
   "source": [
    "# **RNN**\n",
    "A recurrent neural network (RNN) is a class of artificial neural network where connections between units form a directed cycle. This creates an internal state of the network which allows it to exhibit dynamic temporal behavior."
   ]
  },
  {
   "cell_type": "markdown",
   "metadata": {
    "id": "55i8db8uI5U3"
   },
   "source": [
    "IMDB sentiment classification task\n",
    "\n",
    "This is a dataset for binary sentiment classification containing substantially more data than previous benchmark datasets. IMDB provided a set of 25,000 highly polar movie reviews for training, and 25,000 for testing. There is additional unlabeled data for use as well. Raw text and already processed bag of words formats are provided.\n",
    "\n",
    "You can download the dataset from http://ai.stanford.edu/~amaas/data/sentiment/  or you can directly use \n",
    "\" from keras.datasets import imdb \" to import the dataset.\n",
    "\n",
    "Few points to be noted:\n",
    "Modules like SimpleRNN, LSTM, Activation layers, Dense layers, Dropout can be directly used from keras\n",
    "For preprocessing, you can use required "
   ]
  },
  {
   "cell_type": "code",
   "execution_count": 1,
   "metadata": {},
   "outputs": [],
   "source": [
    "#load the imdb dataset \n",
    "from tensorflow.keras.datasets import imdb\n",
    "import pandas as pd"
   ]
  },
  {
   "cell_type": "code",
   "execution_count": 2,
   "metadata": {
    "colab": {
     "base_uri": "https://localhost:8080/"
    },
    "id": "SozhvLNkI5U6",
    "outputId": "11baa877-0a7f-4c86-cdbb-e31e1d233dd3"
   },
   "outputs": [
    {
     "name": "stderr",
     "output_type": "stream",
     "text": [
      "<__array_function__ internals>:5: VisibleDeprecationWarning: Creating an ndarray from ragged nested sequences (which is a list-or-tuple of lists-or-tuples-or ndarrays with different lengths or shapes) is deprecated. If you meant to do this, you must specify 'dtype=object' when creating the ndarray\n",
      "/Users/chief-blackhood/virtualenv/SMAI/lib/python3.8/site-packages/tensorflow/python/keras/datasets/imdb.py:159: VisibleDeprecationWarning: Creating an ndarray from ragged nested sequences (which is a list-or-tuple of lists-or-tuples-or ndarrays with different lengths or shapes) is deprecated. If you meant to do this, you must specify 'dtype=object' when creating the ndarray\n",
      "  x_train, y_train = np.array(xs[:idx]), np.array(labels[:idx])\n",
      "/Users/chief-blackhood/virtualenv/SMAI/lib/python3.8/site-packages/tensorflow/python/keras/datasets/imdb.py:160: VisibleDeprecationWarning: Creating an ndarray from ragged nested sequences (which is a list-or-tuple of lists-or-tuples-or ndarrays with different lengths or shapes) is deprecated. If you meant to do this, you must specify 'dtype=object' when creating the ndarray\n",
      "  x_test, y_test = np.array(xs[idx:]), np.array(labels[idx:])\n"
     ]
    },
    {
     "name": "stdout",
     "output_type": "stream",
     "text": [
      "Loaded dataset with 25000 training samples, 25000 test samples\n"
     ]
    }
   ],
   "source": [
    "vocabulary_size = 5000\n",
    "(X_train, y_train), (X_test, y_test) = imdb.load_data(num_words = vocabulary_size)\n",
    "print('Loaded dataset with {} training samples, {} test samples'.format(len(X_train), len(X_test)))"
   ]
  },
  {
   "cell_type": "code",
   "execution_count": 3,
   "metadata": {
    "colab": {
     "base_uri": "https://localhost:8080/"
    },
    "id": "NrilwfurI5VA",
    "outputId": "1c9da21d-6725-419f-8a12-e89640017a70"
   },
   "outputs": [
    {
     "name": "stdout",
     "output_type": "stream",
     "text": [
      "---review---\n",
      "[1, 14, 22, 16, 43, 530, 973, 1622, 1385, 65, 458, 4468, 66, 3941, 4, 173, 36, 256, 5, 25, 100, 43, 838, 112, 50, 670, 2, 9, 35, 480, 284, 5, 150, 4, 172, 112, 167, 2, 336, 385, 39, 4, 172, 4536, 1111, 17, 546, 38, 13, 447, 4, 192, 50, 16, 6, 147, 2025, 19, 14, 22, 4, 1920, 4613, 469, 4, 22, 71, 87, 12, 16, 43, 530, 38, 76, 15, 13, 1247, 4, 22, 17, 515, 17, 12, 16, 626, 18, 2, 5, 62, 386, 12, 8, 316, 8, 106, 5, 4, 2223, 2, 16, 480, 66, 3785, 33, 4, 130, 12, 16, 38, 619, 5, 25, 124, 51, 36, 135, 48, 25, 1415, 33, 6, 22, 12, 215, 28, 77, 52, 5, 14, 407, 16, 82, 2, 8, 4, 107, 117, 2, 15, 256, 4, 2, 7, 3766, 5, 723, 36, 71, 43, 530, 476, 26, 400, 317, 46, 7, 4, 2, 1029, 13, 104, 88, 4, 381, 15, 297, 98, 32, 2071, 56, 26, 141, 6, 194, 2, 18, 4, 226, 22, 21, 134, 476, 26, 480, 5, 144, 30, 2, 18, 51, 36, 28, 224, 92, 25, 104, 4, 226, 65, 16, 38, 1334, 88, 12, 16, 283, 5, 16, 4472, 113, 103, 32, 15, 16, 2, 19, 178, 32]\n",
      "---label---\n",
      "1\n",
      "---review with words---\n",
      "['the', 'as', 'you', 'with', 'out', 'themselves', 'powerful', 'lets', 'loves', 'their', 'becomes', 'reaching', 'had', 'journalist', 'of', 'lot', 'from', 'anyone', 'to', 'have', 'after', 'out', 'atmosphere', 'never', 'more', 'room', 'and', 'it', 'so', 'heart', 'shows', 'to', 'years', 'of', 'every', 'never', 'going', 'and', 'help', 'moments', 'or', 'of', 'every', 'chest', 'visual', 'movie', 'except', 'her', 'was', 'several', 'of', 'enough', 'more', 'with', 'is', 'now', 'current', 'film', 'as', 'you', 'of', 'mine', 'potentially', 'unfortunately', 'of', 'you', 'than', 'him', 'that', 'with', 'out', 'themselves', 'her', 'get', 'for', 'was', 'camp', 'of', 'you', 'movie', 'sometimes', 'movie', 'that', 'with', 'scary', 'but', 'and', 'to', 'story', 'wonderful', 'that', 'in', 'seeing', 'in', 'character', 'to', 'of', '70s', 'and', 'with', 'heart', 'had', 'shadows', 'they', 'of', 'here', 'that', 'with', 'her', 'serious', 'to', 'have', 'does', 'when', 'from', 'why', 'what', 'have', 'critics', 'they', 'is', 'you', 'that', \"isn't\", 'one', 'will', 'very', 'to', 'as', 'itself', 'with', 'other', 'and', 'in', 'of', 'seen', 'over', 'and', 'for', 'anyone', 'of', 'and', 'br', \"show's\", 'to', 'whether', 'from', 'than', 'out', 'themselves', 'history', 'he', 'name', 'half', 'some', 'br', 'of', 'and', 'odd', 'was', 'two', 'most', 'of', 'mean', 'for', '1', 'any', 'an', 'boat', 'she', 'he', 'should', 'is', 'thought', 'and', 'but', 'of', 'script', 'you', 'not', 'while', 'history', 'he', 'heart', 'to', 'real', 'at', 'and', 'but', 'when', 'from', 'one', 'bit', 'then', 'have', 'two', 'of', 'script', 'their', 'with', 'her', 'nobody', 'most', 'that', 'with', \"wasn't\", 'to', 'with', 'armed', 'acting', 'watch', 'an', 'for', 'with', 'and', 'film', 'want', 'an']\n",
      "---label---\n",
      "1\n"
     ]
    }
   ],
   "source": [
    "#the review is stored as a sequence of integers. \n",
    "# These are word IDs that have been pre-assigned to individual words, and the label is an integer\n",
    "\n",
    "print('---review---')\n",
    "print(X_train[0])\n",
    "print('---label---')\n",
    "print(y_train[0])\n",
    "\n",
    "# to get the actual review\n",
    "word2id = imdb.get_word_index()\n",
    "id2word = {i: word for word, i in word2id.items()}\n",
    "print('---review with words---')\n",
    "print([id2word.get(i, ' ') for i in X_train[0]])\n",
    "print('---label---')\n",
    "print(y_train[0])"
   ]
  },
  {
   "cell_type": "code",
   "execution_count": 4,
   "metadata": {
    "id": "h6upWxEWI5VC"
   },
   "outputs": [],
   "source": [
    "#pad sequences (write your code here)\n",
    "from tensorflow.keras.preprocessing import sequence\n",
    "X_train = sequence.pad_sequences(X_train, maxlen=100)\n",
    "X_test = sequence.pad_sequences(X_test, maxlen=100)\n"
   ]
  },
  {
   "cell_type": "code",
   "execution_count": 5,
   "metadata": {
    "id": "GfoK8WnYm-XZ"
   },
   "outputs": [],
   "source": [
    "from tensorflow.keras import Sequential\n",
    "from tensorflow.keras.layers import Embedding, LSTM, Dense, Dropout, SimpleRNN"
   ]
  },
  {
   "cell_type": "markdown",
   "metadata": {},
   "source": [
    "# RNN training"
   ]
  },
  {
   "cell_type": "code",
   "execution_count": 17,
   "metadata": {
    "colab": {
     "base_uri": "https://localhost:8080/"
    },
    "id": "-RcCOpeNI5VF",
    "outputId": "ee711cf2-58d1-49f8-9afc-ca68aa2364a0"
   },
   "outputs": [
    {
     "name": "stdout",
     "output_type": "stream",
     "text": [
      "Model: \"sequential_3\"\n",
      "_________________________________________________________________\n",
      "Layer (type)                 Output Shape              Param #   \n",
      "=================================================================\n",
      "embedding_3 (Embedding)      (None, None, 20)          100000    \n",
      "_________________________________________________________________\n",
      "simple_rnn_2 (SimpleRNN)     (None, 15)                540       \n",
      "_________________________________________________________________\n",
      "dense_3 (Dense)              (None, 1)                 16        \n",
      "=================================================================\n",
      "Total params: 100,556\n",
      "Trainable params: 100,556\n",
      "Non-trainable params: 0\n",
      "_________________________________________________________________\n"
     ]
    }
   ],
   "source": [
    "#design a RNN model (write your code)\n",
    "\n",
    "model1 = Sequential()\n",
    "model1.add(Embedding(vocabulary_size, 20))\n",
    "model1.add(SimpleRNN(15,dropout=0.2))\n",
    "model1.add(Dense(1,activation='sigmoid'))\n",
    "model1.summary()"
   ]
  },
  {
   "cell_type": "code",
   "execution_count": 18,
   "metadata": {
    "id": "InQ2TED3I5VI"
   },
   "outputs": [],
   "source": [
    "#train and evaluate your model\n",
    "#choose your loss function and optimizer and mention the reason to choose that particular loss function and optimizer\n",
    "# use accuracy as the evaluation metric\n",
    "\n",
    "## We use the “adam” optimizer, an algorithm that changes the weights and biases during training.\n",
    "model1.compile(optimizer='adam',loss='binary_crossentropy', metrics=['accuracy'])"
   ]
  },
  {
   "cell_type": "code",
   "execution_count": 19,
   "metadata": {
    "colab": {
     "base_uri": "https://localhost:8080/"
    },
    "id": "q6A9Q0xmI5VJ",
    "outputId": "f25dd2cf-ea8c-452b-d752-4f7883854b41"
   },
   "outputs": [
    {
     "name": "stdout",
     "output_type": "stream",
     "text": [
      "Epoch 1/5\n",
      "391/391 [==============================] - 6s 14ms/step - loss: 0.6681 - accuracy: 0.5593 - val_loss: 0.4334 - val_accuracy: 0.8106\n",
      "Epoch 2/5\n",
      "391/391 [==============================] - 5s 14ms/step - loss: 0.3721 - accuracy: 0.8428 - val_loss: 0.3759 - val_accuracy: 0.8356\n",
      "Epoch 3/5\n",
      "391/391 [==============================] - 5s 14ms/step - loss: 0.2988 - accuracy: 0.8778 - val_loss: 0.3801 - val_accuracy: 0.8418\n",
      "Epoch 4/5\n",
      "391/391 [==============================] - 5s 14ms/step - loss: 0.2588 - accuracy: 0.8972 - val_loss: 0.4166 - val_accuracy: 0.8341\n",
      "Epoch 5/5\n",
      "391/391 [==============================] - 5s 14ms/step - loss: 0.2227 - accuracy: 0.9159 - val_loss: 0.3911 - val_accuracy: 0.8376\n"
     ]
    }
   ],
   "source": [
    "batch_size = 64\n",
    "num_epochs = 5\n",
    "\n",
    "history = model1.fit(\n",
    " X_train, y_train,\n",
    " epochs= num_epochs,\n",
    " batch_size = batch_size,\n",
    " validation_data=(X_test, y_test),\n",
    ")"
   ]
  },
  {
   "cell_type": "code",
   "execution_count": 20,
   "metadata": {
    "colab": {
     "base_uri": "https://localhost:8080/"
    },
    "id": "YTXG__EmI5VM",
    "outputId": "04c18e9f-9373-4cf9-fdf8-721972f85d92"
   },
   "outputs": [
    {
     "name": "stdout",
     "output_type": "stream",
     "text": [
      "Evaluate on test data\n",
      "391/391 [==============================] - 1s 3ms/step - loss: 0.3911 - accuracy: 0.8376\n",
      "test loss, test acc: [0.39105895161628723, 0.8375999927520752]\n"
     ]
    }
   ],
   "source": [
    "#evaluate the model using model.evaluate()\n",
    "print(\"Evaluate on test data\")\n",
    "results = model1.evaluate(X_test, y_test, batch_size=64)\n",
    "print(\"test loss, test acc:\", results)"
   ]
  },
  {
   "cell_type": "markdown",
   "metadata": {
    "id": "D1uSo8DgI5VN"
   },
   "source": [
    "# **LSTM**\n",
    "\n",
    "Instead of using a RNN, now try using a LSTM model and compare both of them. Which of those performed better and why ?\n"
   ]
  },
  {
   "cell_type": "code",
   "execution_count": 14,
   "metadata": {
    "colab": {
     "base_uri": "https://localhost:8080/"
    },
    "id": "Bk4rLYHwI5VP",
    "outputId": "959bedd9-a101-46b7-d8af-1a2e0e1b669d"
   },
   "outputs": [
    {
     "name": "stdout",
     "output_type": "stream",
     "text": [
      "Model: \"sequential_2\"\n",
      "_________________________________________________________________\n",
      "Layer (type)                 Output Shape              Param #   \n",
      "=================================================================\n",
      "embedding_2 (Embedding)      (None, None, 20)          100000    \n",
      "_________________________________________________________________\n",
      "lstm (LSTM)                  (None, 15)                2160      \n",
      "_________________________________________________________________\n",
      "dense_2 (Dense)              (None, 1)                 16        \n",
      "=================================================================\n",
      "Total params: 102,176\n",
      "Trainable params: 102,176\n",
      "Non-trainable params: 0\n",
      "_________________________________________________________________\n"
     ]
    }
   ],
   "source": [
    "model2 = Sequential()\n",
    "model2.add(Embedding(vocabulary_size, 20))\n",
    "model2.add(LSTM(15,dropout=0.2))\n",
    "model2.add(Dense(1,activation='sigmoid'))\n",
    "model2.summary()"
   ]
  },
  {
   "cell_type": "code",
   "execution_count": 15,
   "metadata": {
    "colab": {
     "base_uri": "https://localhost:8080/"
    },
    "id": "pz0GDpqtl1Ao",
    "outputId": "be70d48b-2578-4a4b-e349-ecdaa2607093"
   },
   "outputs": [
    {
     "name": "stdout",
     "output_type": "stream",
     "text": [
      "Epoch 1/5\n",
      "391/391 [==============================] - 12s 28ms/step - loss: 0.5921 - accuracy: 0.6534 - val_loss: 0.3632 - val_accuracy: 0.8421\n",
      "Epoch 2/5\n",
      "391/391 [==============================] - 11s 29ms/step - loss: 0.3141 - accuracy: 0.8728 - val_loss: 0.3406 - val_accuracy: 0.8507\n",
      "Epoch 3/5\n",
      "391/391 [==============================] - 11s 28ms/step - loss: 0.2618 - accuracy: 0.8973 - val_loss: 0.3484 - val_accuracy: 0.8491\n",
      "Epoch 4/5\n",
      "391/391 [==============================] - 11s 28ms/step - loss: 0.2395 - accuracy: 0.9031 - val_loss: 0.3599 - val_accuracy: 0.8475\n",
      "Epoch 5/5\n",
      "391/391 [==============================] - 11s 28ms/step - loss: 0.2144 - accuracy: 0.9155 - val_loss: 0.3991 - val_accuracy: 0.8400\n"
     ]
    }
   ],
   "source": [
    "model2.compile(optimizer='adam',loss='binary_crossentropy', metrics=['accuracy'])\n",
    "\n",
    "batch_size = 64\n",
    "num_epochs = 5\n",
    "\n",
    "history = model2.fit(\n",
    " X_train, y_train,\n",
    " epochs= num_epochs,\n",
    " batch_size = batch_size,\n",
    " validation_data=(X_test, y_test),\n",
    ")"
   ]
  },
  {
   "cell_type": "code",
   "execution_count": 16,
   "metadata": {
    "colab": {
     "base_uri": "https://localhost:8080/"
    },
    "id": "N2mGEg3Jko7I",
    "outputId": "045d56d5-1720-4f55-c68e-14b42b2da4ef"
   },
   "outputs": [
    {
     "name": "stdout",
     "output_type": "stream",
     "text": [
      "Evaluate on test data\n",
      "391/391 [==============================] - 2s 5ms/step - loss: 0.3991 - accuracy: 0.8400\n",
      "test loss, test acc: [0.39908090233802795, 0.839959979057312]\n"
     ]
    }
   ],
   "source": [
    "#evaluate the model using model.evaluate()\n",
    "print(\"Evaluate on test data\")\n",
    "results = model2.evaluate(X_test, y_test, batch_size=64)\n",
    "print(\"test loss, test acc:\", results)"
   ]
  },
  {
   "cell_type": "markdown",
   "metadata": {
    "id": "GBtRY9jmI5VQ"
   },
   "source": [
    "Perform Error analysis and explain using few examples."
   ]
  },
  {
   "cell_type": "markdown",
   "metadata": {},
   "source": [
    "### Error analysis"
   ]
  },
  {
   "cell_type": "markdown",
   "metadata": {
    "id": "izlA478_tQDg"
   },
   "source": [
    "### For RNN"
   ]
  },
  {
   "cell_type": "code",
   "execution_count": 14,
   "metadata": {
    "id": "JXJCAE2CtJVU"
   },
   "outputs": [],
   "source": [
    "y_pred = model1.predict(X_test)\n",
    "y_pred_rnn = [0 if x < 0.5 else 1 for x in y_pred ]"
   ]
  },
  {
   "cell_type": "code",
   "execution_count": 17,
   "metadata": {
    "id": "OVVvEO5RtMaL"
   },
   "outputs": [],
   "source": [
    "mismatched_id_rnn = []\n",
    "for i in range(len(y_test)):\n",
    "    if y_pred_rnn[i] != y_test[i]:\n",
    "        mismatched_id_rnn.append(i)"
   ]
  },
  {
   "cell_type": "code",
   "execution_count": 19,
   "metadata": {
    "id": "K_QQzKS2tN8b"
   },
   "outputs": [],
   "source": [
    "dict_rnn = {'id': [], 'review': [], 'true_label': [], 'rnn_pred': []}\n",
    "for id in mismatched_id_rnn:\n",
    "  string_list = [id2word.get(i, ' ') for i in X_test[id]]\n",
    "  string = ' '.join(string_list)\n",
    "  dict_rnn['id'].append(id)\n",
    "  dict_rnn['review'].append(string)\n",
    "  dict_rnn['true_label'].append(y_test[id])\n",
    "  dict_rnn['rnn_pred'].append(y_pred_rnn[id])\n",
    "RNN_df = pd.DataFrame(dict_rnn)"
   ]
  },
  {
   "cell_type": "markdown",
   "metadata": {
    "id": "rxzc9eretHgX"
   },
   "source": [
    "### For LSTM"
   ]
  },
  {
   "cell_type": "code",
   "execution_count": 20,
   "metadata": {
    "id": "nrs2ylDaI5VR"
   },
   "outputs": [],
   "source": [
    "y_pred = model2.predict(X_test)\n",
    "y_pred = [0 if x < 0.5 else 1 for x in y_pred ]"
   ]
  },
  {
   "cell_type": "code",
   "execution_count": 21,
   "metadata": {
    "id": "Ji_EqC4MpmV7"
   },
   "outputs": [],
   "source": [
    "mismatched_id_lstm = []\n",
    "for i in range(len(y_test)):\n",
    "  if y_pred[i] != y_test[i]:\n",
    "    mismatched_id_lstm.append(i)"
   ]
  },
  {
   "cell_type": "code",
   "execution_count": 22,
   "metadata": {
    "id": "3bEdnn5YrnCh"
   },
   "outputs": [],
   "source": [
    "dict_lstm = {'id': [], 'review': [], 'true_label': [], 'lstm_pred': []}\n",
    "for id in mismatched_id_lstm:\n",
    "  string_list = [id2word.get(i, ' ') for i in X_test[id]]\n",
    "  string = ' '.join(string_list)\n",
    "  dict_lstm['id'].append(id)\n",
    "  dict_lstm['review'].append(string)\n",
    "  dict_lstm['true_label'].append(y_test[id])\n",
    "  dict_lstm['lstm_pred'].append(y_pred[id])\n",
    "LSTM_df = pd.DataFrame(dict_lstm)"
   ]
  },
  {
   "cell_type": "code",
   "execution_count": 23,
   "metadata": {
    "id": "mecowG4uy7qC"
   },
   "outputs": [],
   "source": [
    "pd.options.display.max_colwidth = 1000"
   ]
  },
  {
   "cell_type": "markdown",
   "metadata": {},
   "source": [
    "Since RNN doesn't have a very strong retention capabilities, it gives more weightage to the last few words. Due to this, it might get swayed by the last few words and incorrectly classify a review. This is evident in the following reviews."
   ]
  },
  {
   "cell_type": "code",
   "execution_count": 36,
   "metadata": {
    "colab": {
     "base_uri": "https://localhost:8080/",
     "height": 810
    },
    "id": "cvQto2D7rxpM",
    "outputId": "dc2ad0b3-bb22-4d9a-d3a6-6badc460734a"
   },
   "outputs": [
    {
     "data": {
      "text/html": [
       "<div>\n",
       "<style scoped>\n",
       "    .dataframe tbody tr th:only-of-type {\n",
       "        vertical-align: middle;\n",
       "    }\n",
       "\n",
       "    .dataframe tbody tr th {\n",
       "        vertical-align: top;\n",
       "    }\n",
       "\n",
       "    .dataframe thead th {\n",
       "        text-align: right;\n",
       "    }\n",
       "</style>\n",
       "<table border=\"1\" class=\"dataframe\">\n",
       "  <thead>\n",
       "    <tr style=\"text-align: right;\">\n",
       "      <th></th>\n",
       "      <th>id</th>\n",
       "      <th>review</th>\n",
       "      <th>true_label</th>\n",
       "      <th>rnn_pred</th>\n",
       "    </tr>\n",
       "  </thead>\n",
       "  <tbody>\n",
       "    <tr>\n",
       "      <th>20</th>\n",
       "      <td>112</td>\n",
       "      <td>to world decided from into hits she just is over and in of chicks everyone brings br voice interest twist and to an friendly br voice and and to seems have into best interested is piece it theatrical br drags are budget to next what have just and much as yet br and occasionally film makers makers and to brings br train begins br and to and in and she seems are of others level was had mr for as you end his own good somewhere piece this as young of less in favorite some while dire this now acting</td>\n",
       "      <td>0</td>\n",
       "      <td>1</td>\n",
       "    </tr>\n",
       "  </tbody>\n",
       "</table>\n",
       "</div>"
      ],
      "text/plain": [
       "     id  \\\n",
       "20  112   \n",
       "\n",
       "                                                                                                                                                                                                                                                                                                                                                                                                                                                                                                                 review  \\\n",
       "20  to world decided from into hits she just is over and in of chicks everyone brings br voice interest twist and to an friendly br voice and and to seems have into best interested is piece it theatrical br drags are budget to next what have just and much as yet br and occasionally film makers makers and to brings br train begins br and to and in and she seems are of others level was had mr for as you end his own good somewhere piece this as young of less in favorite some while dire this now acting   \n",
       "\n",
       "    true_label  rnn_pred  \n",
       "20           0         1  "
      ]
     },
     "execution_count": 36,
     "metadata": {},
     "output_type": "execute_result"
    }
   ],
   "source": [
    "RNN_df[20:21]"
   ]
  },
  {
   "cell_type": "markdown",
   "metadata": {},
   "source": [
    "We can see that the are words like 'good' and 'favorite' at the end of the sentence which influence the model to predict the review to be positve even though it is negative."
   ]
  },
  {
   "cell_type": "code",
   "execution_count": 42,
   "metadata": {},
   "outputs": [
    {
     "data": {
      "text/html": [
       "<div>\n",
       "<style scoped>\n",
       "    .dataframe tbody tr th:only-of-type {\n",
       "        vertical-align: middle;\n",
       "    }\n",
       "\n",
       "    .dataframe tbody tr th {\n",
       "        vertical-align: top;\n",
       "    }\n",
       "\n",
       "    .dataframe thead th {\n",
       "        text-align: right;\n",
       "    }\n",
       "</style>\n",
       "<table border=\"1\" class=\"dataframe\">\n",
       "  <thead>\n",
       "    <tr style=\"text-align: right;\">\n",
       "      <th></th>\n",
       "      <th>id</th>\n",
       "      <th>review</th>\n",
       "      <th>true_label</th>\n",
       "      <th>rnn_pred</th>\n",
       "    </tr>\n",
       "  </thead>\n",
       "  <tbody>\n",
       "    <tr>\n",
       "      <th>5</th>\n",
       "      <td>45</td>\n",
       "      <td>character as face they there's true is someone movie was recent in at is and say movie all there plot women like did made and i i this liked plot br have he movies got in start watching and bits and and is experiment upon ever this of neil was looking oh and presence are that all me job and is walk easy determined like anyone of and is fallen easy and like anyone so is act and to is and and easy you've after girlfriend to buff they into learns plot br and makes toilet mean just worthy and</td>\n",
       "      <td>1</td>\n",
       "      <td>0</td>\n",
       "    </tr>\n",
       "  </tbody>\n",
       "</table>\n",
       "</div>"
      ],
      "text/plain": [
       "   id  \\\n",
       "5  45   \n",
       "\n",
       "                                                                                                                                                                                                                                                                                                                                                                                                                                                                                                          review  \\\n",
       "5  character as face they there's true is someone movie was recent in at is and say movie all there plot women like did made and i i this liked plot br have he movies got in start watching and bits and and is experiment upon ever this of neil was looking oh and presence are that all me job and is walk easy determined like anyone of and is fallen easy and like anyone so is act and to is and and easy you've after girlfriend to buff they into learns plot br and makes toilet mean just worthy and   \n",
       "\n",
       "   true_label  rnn_pred  \n",
       "5           1         0  "
      ]
     },
     "execution_count": 42,
     "metadata": {},
     "output_type": "execute_result"
    }
   ],
   "source": [
    "RNN_df[5:6]"
   ]
  },
  {
   "cell_type": "markdown",
   "metadata": {},
   "source": [
    "We can see that the are word 'Toilet' has been used at the end of the sentence which influence the model to predict the review to be negative even though it is positive."
   ]
  },
  {
   "cell_type": "markdown",
   "metadata": {},
   "source": [
    "We know that LSTM have the capability to retain words across the whole sentence. It stores specific words which it thinks might be important for prediction. But due to this it might be deceived when multiple (generally used) negative words occur that in a positive review and vice versa. A few examples to demostrate that are as follows:"
   ]
  },
  {
   "cell_type": "code",
   "execution_count": 44,
   "metadata": {},
   "outputs": [
    {
     "data": {
      "text/html": [
       "<div>\n",
       "<style scoped>\n",
       "    .dataframe tbody tr th:only-of-type {\n",
       "        vertical-align: middle;\n",
       "    }\n",
       "\n",
       "    .dataframe tbody tr th {\n",
       "        vertical-align: top;\n",
       "    }\n",
       "\n",
       "    .dataframe thead th {\n",
       "        text-align: right;\n",
       "    }\n",
       "</style>\n",
       "<table border=\"1\" class=\"dataframe\">\n",
       "  <thead>\n",
       "    <tr style=\"text-align: right;\">\n",
       "      <th></th>\n",
       "      <th>id</th>\n",
       "      <th>review</th>\n",
       "      <th>true_label</th>\n",
       "      <th>lstm_pred</th>\n",
       "    </tr>\n",
       "  </thead>\n",
       "  <tbody>\n",
       "    <tr>\n",
       "      <th>0</th>\n",
       "      <td>8</td>\n",
       "      <td>one both he's lost adaptation as by it waiting film freddy 7 and and to dude if is video and br and to around nearly and hilarious that with claim but make cube excellent instead really he family and this as hard to took and element br graphics impression of see stewart biggest comments really and it make version throw to and serious in why br of plot many way this as soon again br any saw she in joey and i've chair br and family think because and ego you it apparent in as by old if is noise</td>\n",
       "      <td>0</td>\n",
       "      <td>1</td>\n",
       "    </tr>\n",
       "  </tbody>\n",
       "</table>\n",
       "</div>"
      ],
      "text/plain": [
       "   id  \\\n",
       "0   8   \n",
       "\n",
       "                                                                                                                                                                                                                                                                                                                                                                                                                                                                                                             review  \\\n",
       "0  one both he's lost adaptation as by it waiting film freddy 7 and and to dude if is video and br and to around nearly and hilarious that with claim but make cube excellent instead really he family and this as hard to took and element br graphics impression of see stewart biggest comments really and it make version throw to and serious in why br of plot many way this as soon again br any saw she in joey and i've chair br and family think because and ego you it apparent in as by old if is noise   \n",
       "\n",
       "   true_label  lstm_pred  \n",
       "0           0          1  "
      ]
     },
     "execution_count": 44,
     "metadata": {},
     "output_type": "execute_result"
    }
   ],
   "source": [
    "LSTM_df[:1]"
   ]
  },
  {
   "cell_type": "markdown",
   "metadata": {},
   "source": [
    "Here we can see that in the whole sentence there are words used like 'hilarious', 'excellent' & 'biggest' which are generally used in positive reviews. So the modal gets confused and predicts the review to be positive even though it is a negative review."
   ]
  },
  {
   "cell_type": "code",
   "execution_count": 45,
   "metadata": {
    "id": "zjqBYgjjzSnc"
   },
   "outputs": [
    {
     "data": {
      "text/html": [
       "<div>\n",
       "<style scoped>\n",
       "    .dataframe tbody tr th:only-of-type {\n",
       "        vertical-align: middle;\n",
       "    }\n",
       "\n",
       "    .dataframe tbody tr th {\n",
       "        vertical-align: top;\n",
       "    }\n",
       "\n",
       "    .dataframe thead th {\n",
       "        text-align: right;\n",
       "    }\n",
       "</style>\n",
       "<table border=\"1\" class=\"dataframe\">\n",
       "  <thead>\n",
       "    <tr style=\"text-align: right;\">\n",
       "      <th></th>\n",
       "      <th>id</th>\n",
       "      <th>review</th>\n",
       "      <th>true_label</th>\n",
       "      <th>lstm_pred</th>\n",
       "    </tr>\n",
       "  </thead>\n",
       "  <tbody>\n",
       "    <tr>\n",
       "      <th>4</th>\n",
       "      <td>55</td>\n",
       "      <td>it they another because been when bad pay i i was does br even because you for her screenwriter and comes right century and in one want pay of young bad can all and back has his date even by and conclusion and shallow just all end and and dance making it and are and of every enterprise of and likes for and not thing fish likes i i and and war george and movie of and to would other cheating is and and and you for it are of year i i and and either br wanted main doesn't</td>\n",
       "      <td>1</td>\n",
       "      <td>0</td>\n",
       "    </tr>\n",
       "  </tbody>\n",
       "</table>\n",
       "</div>"
      ],
      "text/plain": [
       "   id  \\\n",
       "4  55   \n",
       "\n",
       "                                                                                                                                                                                                                                                                                                                                                                                                                                                                                     review  \\\n",
       "4  it they another because been when bad pay i i was does br even because you for her screenwriter and comes right century and in one want pay of young bad can all and back has his date even by and conclusion and shallow just all end and and dance making it and are and of every enterprise of and likes for and not thing fish likes i i and and war george and movie of and to would other cheating is and and and you for it are of year i i and and either br wanted main doesn't   \n",
       "\n",
       "   true_label  lstm_pred  \n",
       "4           1          0  "
      ]
     },
     "execution_count": 45,
     "metadata": {},
     "output_type": "execute_result"
    }
   ],
   "source": [
    "LSTM_df[4:5]"
   ]
  },
  {
   "cell_type": "markdown",
   "metadata": {},
   "source": [
    "Here we can see that in the whole sentence words like 'bad pay', 'young bad', 'shallow', 'war' & 'cheating' is used which are generally used in a negative sentence setting. Because of the usage of strong words and its frequencies, the LSTM might have given more weightage to these words and predicted the review to be a negative review even though it was a positive one."
   ]
  }
 ],
 "metadata": {
  "colab": {
   "name": "RNN.ipynb",
   "provenance": []
  },
  "kernelspec": {
   "display_name": "Python 3 (ipykernel)",
   "language": "python",
   "name": "python3"
  },
  "language_info": {
   "codemirror_mode": {
    "name": "ipython",
    "version": 3
   },
   "file_extension": ".py",
   "mimetype": "text/x-python",
   "name": "python",
   "nbconvert_exporter": "python",
   "pygments_lexer": "ipython3",
   "version": "3.8.8"
  }
 },
 "nbformat": 4,
 "nbformat_minor": 4
}
